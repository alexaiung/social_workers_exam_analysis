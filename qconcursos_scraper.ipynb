{
 "cells": [
  {
   "cell_type": "code",
   "execution_count": 4,
   "metadata": {},
   "outputs": [],
   "source": [
    "from selenium import webdriver\n",
    "from selenium.webdriver.common.by import By\n",
    "from selenium.webdriver.support.wait import WebDriverWait\n",
    "from selenium.webdriver.support import expected_conditions as EC\n",
    "import pandas as pd\n",
    "from datetime import datetime"
   ]
  },
  {
   "attachments": {},
   "cell_type": "markdown",
   "metadata": {},
   "source": [
    "# Data Extractor from QConcursos"
   ]
  },
  {
   "cell_type": "code",
   "execution_count": 5,
   "metadata": {},
   "outputs": [],
   "source": [
    "def open_browser():\n",
    "    \"\"\"This function opens a Chrome browser using the main User Data, so it can retain login info.\n",
    "    \n",
    "    Returns\n",
    "    -------\n",
    "    WebDriver\n",
    "        Selenium WebDriver object\n",
    "    \"\"\"\n",
    "    options = webdriver.ChromeOptions()\n",
    "    options.add_argument(r\"--user-data-dir=C:\\Users\\alexa\\AppData\\Local\\Google\\Chrome\\User Data\\\\\")\n",
    "    driver = webdriver.Chrome(executable_path='./resources/chromedriver.exe', options=options)\n",
    "    return driver\n",
    "\n",
    "def get_data_question(web_question):\n",
    "    \"\"\"This function gets the data of a specific question from QConcursos\n",
    "    \n",
    "    Parameters\n",
    "    ----------\n",
    "    web_question: WebElement\n",
    "        The data collected with Selenium about the question\n",
    "    \n",
    "    Returns\n",
    "    -------\n",
    "    dict\n",
    "        The data about the question translated into a Python dict\n",
    "    \"\"\"\n",
    "    question = dict()\n",
    "    # Info: the data about where the question come from - its year, organization that formulated it ('banca'), the place for which the place is applying for,\n",
    "    # and the name of the exam.\n",
    "    info = web_question.find_element(By.CLASS_NAME, 'q-question-info')\n",
    "    question['info'] = info.get_attribute('innerText')\n",
    "    # Enunciado: the question, including its contextualization, before the answer options.\n",
    "    enunciado = web_question.find_element(By.CLASS_NAME, 'q-question-enunciation')\n",
    "    question['enunciado'] = enunciado.get_attribute('innerText')\n",
    "    # Options: Between 2 and 5 answer options to the question.\n",
    "    options = web_question.find_element(By.CLASS_NAME, 'q-question-options')\n",
    "    question['options'] = options.get_attribute('innerText')\n",
    "    return question\n",
    "\n",
    "def read_30_pages(initial, driver, end=30):\n",
    "    \"\"\"This function reads thirty QConcursos webpages in sequence. This is needed because there is a block in the CloudFare Server if we read more than that\n",
    "    sequencially.\n",
    "    \n",
    "    Parameters\n",
    "    ----------\n",
    "    initial: int\n",
    "        The page in which we start reading the data\n",
    "    driver: WebDriver\n",
    "        The driver that will manage the browser\n",
    "    end: int, optional\n",
    "        The page in which we end our reading\n",
    "    \n",
    "    Returns\n",
    "    -------\n",
    "    list\n",
    "        List of dicts with the questions, usign the get_data_question(question) function\n",
    "    \"\"\"\n",
    "    questions = []\n",
    "    # End + 1 is needed so 30 pages are read, instead of 29\n",
    "    for page in range(initial, end):\n",
    "        link = f'https://www.qconcursos.com/questoes-de-concursos/questoes?discipline_ids%5B%5D=233&page={page}'\n",
    "        driver.get(link)\n",
    "        try:\n",
    "            WebDriverWait(driver, 3).until(EC.presence_of_element_located((By.CLASS_NAME, 'js-question-item')))\n",
    "            for question in driver.find_elements(By.CLASS_NAME, 'js-question-item'):\n",
    "                questions.append(get_data_question(question))\n",
    "        except:\n",
    "            time.sleep(10)\n",
    "    return questions\n",
    "\n",
    "# Extractor\n",
    "def get_number_pages(driver):\n",
    "    \"\"\"This function will search for a given query, and see how many pages of questions it has.\n",
    "    \n",
    "    Parameters\n",
    "    ----------\n",
    "    driver: WebDriver\n",
    "        The driver that will access the browser\n",
    "        \n",
    "    Returns\n",
    "    -------\n",
    "    int\n",
    "        How many pages with the given question the site has.\"\"\"\n",
    "    \n",
    "    driver.get(f'https://www.qconcursos.com/questoes-de-concursos/questoes?discipline_ids%5B%5D=233&page=1')\n",
    "    # The following code finds the text, which usually is 'Foram encontradas x questões'\n",
    "    qtd_questions = driver.find_element(By.CLASS_NAME, 'q-page-results-title').get_attribute('innerText')\n",
    "    # The following code gets only the number, removes the '.' and transforms into int\n",
    "    qtd_questions = int(qtd_questions.split()[2].replace('.', ''))\n",
    "    # Each page has at most 5 questions, so we can find the number of pages with a simple division\n",
    "    qtd_pages = qtd_questions / 5\n",
    "\n",
    "    # The limit of the site is 1000 pages; 1001 forth are not displayed\n",
    "    if qtd_pages > 1000:\n",
    "        qtd_pages = 1000\n",
    "    return qtd_pages"
   ]
  },
  {
   "attachments": {},
   "cell_type": "markdown",
   "metadata": {},
   "source": [
    "## Usage of the extractor"
   ]
  },
  {
   "cell_type": "code",
   "execution_count": 6,
   "metadata": {},
   "outputs": [
    {
     "name": "stderr",
     "output_type": "stream",
     "text": [
      "C:\\Users\\alexa\\AppData\\Local\\Temp\\ipykernel_8152\\397147589.py:11: DeprecationWarning: executable_path has been deprecated, please pass in a Service object\n",
      "  driver = webdriver.Chrome(executable_path='./resources/chromedriver.exe', options=options)\n"
     ]
    },
    {
     "ename": "NoSuchWindowException",
     "evalue": "Message: no such window: target window already closed\nfrom unknown error: web view not found\n  (Session info: chrome=114.0.5735.110)\nStacktrace:\nBacktrace:\n\tGetHandleVerifier [0x00788893+48451]\n\t(No symbol) [0x0071B8A1]\n\t(No symbol) [0x00625058]\n\t(No symbol) [0x0060D073]\n\t(No symbol) [0x0066DEBB]\n\t(No symbol) [0x0067BFD3]\n\t(No symbol) [0x0066A0B6]\n\t(No symbol) [0x00647E08]\n\t(No symbol) [0x00648F2D]\n\tGetHandleVerifier [0x009E8E3A+2540266]\n\tGetHandleVerifier [0x00A28959+2801161]\n\tGetHandleVerifier [0x00A2295C+2776588]\n\tGetHandleVerifier [0x00812280+612144]\n\t(No symbol) [0x00724F6C]\n\t(No symbol) [0x007211D8]\n\t(No symbol) [0x007212BB]\n\t(No symbol) [0x00714857]\n\tBaseThreadInitThunk [0x75D57D59+25]\n\tRtlInitializeExceptionChain [0x7721B74B+107]\n\tRtlClearBits [0x7721B6CF+191]\n",
     "output_type": "error",
     "traceback": [
      "\u001b[1;31m---------------------------------------------------------------------------\u001b[0m",
      "\u001b[1;31mNoSuchWindowException\u001b[0m                     Traceback (most recent call last)",
      "Cell \u001b[1;32mIn[6], line 3\u001b[0m\n\u001b[0;32m      1\u001b[0m questions \u001b[39m=\u001b[39m []\n\u001b[0;32m      2\u001b[0m driver \u001b[39m=\u001b[39m open_browser()\n\u001b[1;32m----> 3\u001b[0m qtd_pages \u001b[39m=\u001b[39m get_number_pages(driver)\n\u001b[0;32m      4\u001b[0m driver\u001b[39m.\u001b[39mclose()\n\u001b[0;32m      5\u001b[0m step\u001b[39m=\u001b[39m\u001b[39m30\u001b[39m\n",
      "Cell \u001b[1;32mIn[5], line 87\u001b[0m, in \u001b[0;36mget_number_pages\u001b[1;34m(driver)\u001b[0m\n\u001b[0;32m     85\u001b[0m driver\u001b[39m.\u001b[39mget(\u001b[39mf\u001b[39m\u001b[39m'\u001b[39m\u001b[39mhttps://www.qconcursos.com/questoes-de-concursos/questoes?discipline_ids%5B%5D=233&page=1\u001b[39m\u001b[39m'\u001b[39m)\n\u001b[0;32m     86\u001b[0m \u001b[39m# The following code finds the text, which usually is 'Foram encontradas x questões'\u001b[39;00m\n\u001b[1;32m---> 87\u001b[0m qtd_questions \u001b[39m=\u001b[39m driver\u001b[39m.\u001b[39;49mfind_element(By\u001b[39m.\u001b[39;49mCLASS_NAME, \u001b[39m'\u001b[39;49m\u001b[39mq-page-results-title\u001b[39;49m\u001b[39m'\u001b[39;49m)\u001b[39m.\u001b[39mget_attribute(\u001b[39m'\u001b[39m\u001b[39minnerText\u001b[39m\u001b[39m'\u001b[39m)\n\u001b[0;32m     88\u001b[0m \u001b[39m# The following code gets only the number, removes the '.' and transforms into int\u001b[39;00m\n\u001b[0;32m     89\u001b[0m qtd_questions \u001b[39m=\u001b[39m \u001b[39mint\u001b[39m(qtd_questions\u001b[39m.\u001b[39msplit()[\u001b[39m2\u001b[39m]\u001b[39m.\u001b[39mreplace(\u001b[39m'\u001b[39m\u001b[39m.\u001b[39m\u001b[39m'\u001b[39m, \u001b[39m'\u001b[39m\u001b[39m'\u001b[39m))\n",
      "File \u001b[1;32mc:\\Users\\alexa\\AppData\\Local\\Programs\\Python\\Python311\\Lib\\site-packages\\selenium\\webdriver\\remote\\webdriver.py:1251\u001b[0m, in \u001b[0;36mWebDriver.find_element\u001b[1;34m(self, by, value)\u001b[0m\n\u001b[0;32m   1248\u001b[0m     by \u001b[39m=\u001b[39m By\u001b[39m.\u001b[39mCSS_SELECTOR\n\u001b[0;32m   1249\u001b[0m     value \u001b[39m=\u001b[39m \u001b[39m'\u001b[39m\u001b[39m[name=\u001b[39m\u001b[39m\"\u001b[39m\u001b[39m%s\u001b[39;00m\u001b[39m\"\u001b[39m\u001b[39m]\u001b[39m\u001b[39m'\u001b[39m \u001b[39m%\u001b[39m value\n\u001b[1;32m-> 1251\u001b[0m \u001b[39mreturn\u001b[39;00m \u001b[39mself\u001b[39;49m\u001b[39m.\u001b[39;49mexecute(Command\u001b[39m.\u001b[39;49mFIND_ELEMENT, {\n\u001b[0;32m   1252\u001b[0m     \u001b[39m'\u001b[39;49m\u001b[39musing\u001b[39;49m\u001b[39m'\u001b[39;49m: by,\n\u001b[0;32m   1253\u001b[0m     \u001b[39m'\u001b[39;49m\u001b[39mvalue\u001b[39;49m\u001b[39m'\u001b[39;49m: value})[\u001b[39m'\u001b[39m\u001b[39mvalue\u001b[39m\u001b[39m'\u001b[39m]\n",
      "File \u001b[1;32mc:\\Users\\alexa\\AppData\\Local\\Programs\\Python\\Python311\\Lib\\site-packages\\selenium\\webdriver\\remote\\webdriver.py:430\u001b[0m, in \u001b[0;36mWebDriver.execute\u001b[1;34m(self, driver_command, params)\u001b[0m\n\u001b[0;32m    428\u001b[0m response \u001b[39m=\u001b[39m \u001b[39mself\u001b[39m\u001b[39m.\u001b[39mcommand_executor\u001b[39m.\u001b[39mexecute(driver_command, params)\n\u001b[0;32m    429\u001b[0m \u001b[39mif\u001b[39;00m response:\n\u001b[1;32m--> 430\u001b[0m     \u001b[39mself\u001b[39;49m\u001b[39m.\u001b[39;49merror_handler\u001b[39m.\u001b[39;49mcheck_response(response)\n\u001b[0;32m    431\u001b[0m     response[\u001b[39m'\u001b[39m\u001b[39mvalue\u001b[39m\u001b[39m'\u001b[39m] \u001b[39m=\u001b[39m \u001b[39mself\u001b[39m\u001b[39m.\u001b[39m_unwrap_value(\n\u001b[0;32m    432\u001b[0m         response\u001b[39m.\u001b[39mget(\u001b[39m'\u001b[39m\u001b[39mvalue\u001b[39m\u001b[39m'\u001b[39m, \u001b[39mNone\u001b[39;00m))\n\u001b[0;32m    433\u001b[0m     \u001b[39mreturn\u001b[39;00m response\n",
      "File \u001b[1;32mc:\\Users\\alexa\\AppData\\Local\\Programs\\Python\\Python311\\Lib\\site-packages\\selenium\\webdriver\\remote\\errorhandler.py:247\u001b[0m, in \u001b[0;36mErrorHandler.check_response\u001b[1;34m(self, response)\u001b[0m\n\u001b[0;32m    245\u001b[0m         alert_text \u001b[39m=\u001b[39m value[\u001b[39m'\u001b[39m\u001b[39malert\u001b[39m\u001b[39m'\u001b[39m]\u001b[39m.\u001b[39mget(\u001b[39m'\u001b[39m\u001b[39mtext\u001b[39m\u001b[39m'\u001b[39m)\n\u001b[0;32m    246\u001b[0m     \u001b[39mraise\u001b[39;00m exception_class(message, screen, stacktrace, alert_text)  \u001b[39m# type: ignore[call-arg]  # mypy is not smart enough here\u001b[39;00m\n\u001b[1;32m--> 247\u001b[0m \u001b[39mraise\u001b[39;00m exception_class(message, screen, stacktrace)\n",
      "\u001b[1;31mNoSuchWindowException\u001b[0m: Message: no such window: target window already closed\nfrom unknown error: web view not found\n  (Session info: chrome=114.0.5735.110)\nStacktrace:\nBacktrace:\n\tGetHandleVerifier [0x00788893+48451]\n\t(No symbol) [0x0071B8A1]\n\t(No symbol) [0x00625058]\n\t(No symbol) [0x0060D073]\n\t(No symbol) [0x0066DEBB]\n\t(No symbol) [0x0067BFD3]\n\t(No symbol) [0x0066A0B6]\n\t(No symbol) [0x00647E08]\n\t(No symbol) [0x00648F2D]\n\tGetHandleVerifier [0x009E8E3A+2540266]\n\tGetHandleVerifier [0x00A28959+2801161]\n\tGetHandleVerifier [0x00A2295C+2776588]\n\tGetHandleVerifier [0x00812280+612144]\n\t(No symbol) [0x00724F6C]\n\t(No symbol) [0x007211D8]\n\t(No symbol) [0x007212BB]\n\t(No symbol) [0x00714857]\n\tBaseThreadInitThunk [0x75D57D59+25]\n\tRtlInitializeExceptionChain [0x7721B74B+107]\n\tRtlClearBits [0x7721B6CF+191]\n"
     ]
    }
   ],
   "source": [
    "questions = []\n",
    "driver = open_browser()\n",
    "qtd_pages = get_number_pages(driver)\n",
    "driver.close()\n",
    "step=30\n",
    "\n",
    "for i in range(1, qtd_pages, step):\n",
    "    driver = open_browser()\n",
    "    questions.extend(read_30_pages(i, driver, i+30))\n",
    "    driver.close()\n",
    "    if i + step > qtd_pages:\n",
    "        step = qtd_pages - i\n",
    "    else:\n",
    "        step = 30"
   ]
  },
  {
   "attachments": {},
   "cell_type": "markdown",
   "metadata": {},
   "source": [
    "## Formating and saving the data"
   ]
  },
  {
   "cell_type": "code",
   "execution_count": null,
   "metadata": {},
   "outputs": [],
   "source": [
    "# Only after extracting\n",
    "df_questions = pd.DataFrame()\n",
    "for i in range(len(questions)):\n",
    "    df_questions = pd.concat([df_questions, pd.DataFrame(questions[i])], axis=0)\n",
    "df_questions['ano'] = df_questions['info'].map(lambda x: x.split(' Banca')[0].split('Ano: ')[1])\n",
    "df_questions['banca'] = df_questions['info'].map(lambda x: x.split('Banca: ')[1].split()[0])\n",
    "df_questions['orgao'] = df_questions['info'].map(lambda x: x.split('Órgão: ')[1].split('Prova')[0])\n",
    "df_questions['prova'] = df_questions['info'].map(lambda x: x.split(':')[-1])\n",
    "now = datetime.now()\n",
    "df_questions.to_csv(f'data/{now.year}{now.month}{now.day} - {now.hour}-{now.minute}.csv', sep=';')"
   ]
  }
 ],
 "metadata": {
  "kernelspec": {
   "display_name": "Python 3",
   "language": "python",
   "name": "python3"
  },
  "language_info": {
   "codemirror_mode": {
    "name": "ipython",
    "version": 3
   },
   "file_extension": ".py",
   "mimetype": "text/x-python",
   "name": "python",
   "nbconvert_exporter": "python",
   "pygments_lexer": "ipython3",
   "version": "3.11.3"
  },
  "orig_nbformat": 4
 },
 "nbformat": 4,
 "nbformat_minor": 2
}
