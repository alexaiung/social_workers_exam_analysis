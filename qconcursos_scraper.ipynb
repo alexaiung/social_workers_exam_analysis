{
 "cells": [
  {
   "cell_type": "code",
   "execution_count": 4,
   "metadata": {},
   "outputs": [],
   "source": [
    "import time\n",
    "import numpy as np\n",
    "import pandas as pd\n",
    "from datetime import datetime\n",
    "from selenium import webdriver\n",
    "from selenium.webdriver.common.by import By\n",
    "from selenium.webdriver.support.wait import WebDriverWait\n",
    "from selenium.webdriver.support import expected_conditions as EC"
   ]
  },
  {
   "attachments": {},
   "cell_type": "markdown",
   "metadata": {},
   "source": [
    "# Data Extractor from QConcursos"
   ]
  },
  {
   "cell_type": "code",
   "execution_count": 17,
   "metadata": {},
   "outputs": [],
   "source": [
    "def open_browser():\n",
    "    \"\"\"This function opens a Chrome browser using the main User Data, so it can retain login info.\n",
    "    \n",
    "    Returns\n",
    "    -------\n",
    "    WebDriver\n",
    "        Selenium WebDriver object\n",
    "    \"\"\"\n",
    "    options = webdriver.ChromeOptions()\n",
    "    options.add_argument(r\"--user-data-dir=C:\\Users\\alexa\\AppData\\Local\\Google\\Chrome\\User Data\\\\\")\n",
    "    driver = webdriver.Chrome(executable_path='./resources/chromedriver.exe', options=options)\n",
    "    return driver\n",
    "\n",
    "def transform_query_for_url(query):\n",
    "    return '%20'.join(query.split())\n",
    "\n",
    "\n",
    "\n",
    "def get_data_question(web_question):\n",
    "    \"\"\"This function gets the data of a specific question from QConcursos\n",
    "    \n",
    "    Parameters\n",
    "    ----------\n",
    "    web_question: WebElement\n",
    "        The data collected with Selenium about the question\n",
    "    \n",
    "    Returns\n",
    "    -------\n",
    "    dict\n",
    "        The data about the question translated into a Python dict\n",
    "    \"\"\"\n",
    "    question = dict()\n",
    "    # Info: the data about where the question come from - its year, organization that formulated it ('banca'), the place for which the place is applying for,\n",
    "    # and the name of the exam.\n",
    "    info = web_question.find_element(By.CLASS_NAME, 'q-question-info')\n",
    "    question['info'] = info.get_attribute('innerText')\n",
    "    # Enunciado: the question, including its contextualization, before the answer options.\n",
    "    enunciado = web_question.find_element(By.CLASS_NAME, 'q-question-enunciation')\n",
    "    question['enunciado'] = enunciado.get_attribute('innerText')\n",
    "    # Options: Between 2 and 5 answer options to the question.\n",
    "    options = web_question.find_element(By.CLASS_NAME, 'q-question-options')\n",
    "    question['options'] = options.get_attribute('innerText')\n",
    "    return question\n",
    "\n",
    "def read_30_pages(initial, driver, query, end=30, discipline_id=None):\n",
    "    \"\"\"This function reads thirty QConcursos webpages in sequence. This is needed because there is a block in the CloudFare Server if we read more than that\n",
    "    sequencially.\n",
    "    \n",
    "    Parameters\n",
    "    ----------\n",
    "    initial: int\n",
    "        The page in which we start reading the data\n",
    "    driver: WebDriver\n",
    "        The driver that will manage the browser\n",
    "    end: int, optional\n",
    "        The page in which we end our reading\n",
    "    \n",
    "    Returns\n",
    "    -------\n",
    "    list\n",
    "        List of dicts with the questions, usign the get_data_question(question) function\n",
    "    \"\"\"\n",
    "    questions = []\n",
    "\n",
    "    internal_parameters = []\n",
    "    if query:\n",
    "        internal_parameters.append(f'q={transform_query_for_url(query)}')\n",
    "    if discipline_id:\n",
    "        internal_parameters.append(f'discipline_ids%5B%5D={discipline_id}')\n",
    "    \n",
    "    # End + 1 is needed so 30 pages are read, instead of 29\n",
    "    for page in range(initial, end):\n",
    "        # ECA:\n",
    "        # link = f'https://www.qconcursos.com/questoes-de-concursos/questoes?discipline_ids%5B%5D=233&page={page}'\n",
    "        # Lei Maria da Penha:\n",
    "        url = f'https://www.qconcursos.com/questoes-de-concursos/questoes?{\"&\".join(internal_parameters)}&page={page}'\n",
    "        # SINASE\n",
    "        driver.get(link)\n",
    "        try:\n",
    "            WebDriverWait(driver, 3).until(EC.presence_of_element_located((By.CLASS_NAME, 'js-question-item')))\n",
    "            for question in driver.find_elements(By.CLASS_NAME, 'js-question-item'):\n",
    "                questions.append(get_data_question(question))\n",
    "        except:\n",
    "            time.sleep(10)\n",
    "    return questions\n",
    "\n",
    "# Extractor\n",
    "def get_number_pages(driver, query, discipline_id=None):\n",
    "    \"\"\"This function will search for a given query, and see how many pages of questions it has.\n",
    "    \n",
    "    Parameters\n",
    "    ----------\n",
    "    driver: WebDriver\n",
    "        The driver that will access the browser\n",
    "        \n",
    "    Returns\n",
    "    -------\n",
    "    int\n",
    "        How many pages with the given question the site has.\"\"\"\n",
    "    internal_parameters = []\n",
    "    if query:\n",
    "        internal_parameters.append(f'q={transform_query_for_url(query)}')\n",
    "    if discipline_id:\n",
    "        internal_parameters.append(f'discipline_ids%5B%5D={discipline_id}')\n",
    "    url = f'https://www.qconcursos.com/questoes-de-concursos/questoes?{\"&\".join(internal_parameters)}&page=1'\n",
    "    driver.get(url)\n",
    "    print(url)\n",
    "    # The following code finds the text, which usually is 'Foram encontradas x questões'\n",
    "    qtd_questions = driver.find_element(By.CLASS_NAME, 'q-page-results-title').get_attribute('innerText')\n",
    "    # The following code gets only the number, removes the '.' and transforms into int\n",
    "    qtd_questions = int(qtd_questions.split()[2].replace('.', ''))\n",
    "    # Each page has at most 5 questions, so we can find the number of pages with a simple division\n",
    "    qtd_pages = np.ceil(qtd_questions / 5)\n",
    "    # The limit of the site is 1000 pages; 1001 forth are not displayed\n",
    "    if qtd_pages > 1000:\n",
    "        qtd_pages = 1000\n",
    "    return int(qtd_pages)\n"
   ]
  },
  {
   "cell_type": "code",
   "execution_count": null,
   "metadata": {},
   "outputs": [],
   "source": [
    "https://www.qconcursos.com/questoes-de-concursos/questoes?discipline_ids%5B%5D=579"
   ]
  },
  {
   "attachments": {},
   "cell_type": "markdown",
   "metadata": {},
   "source": [
    "## Usage of the extractor"
   ]
  },
  {
   "cell_type": "code",
   "execution_count": 9,
   "metadata": {},
   "outputs": [],
   "source": [
    "temas = ['estatuto deficiente', 'política saúde deficiente']"
   ]
  },
  {
   "cell_type": "code",
   "execution_count": 15,
   "metadata": {},
   "outputs": [
    {
     "name": "stdout",
     "output_type": "stream",
     "text": [
      "Analisando estatuto deficiente\n"
     ]
    },
    {
     "name": "stderr",
     "output_type": "stream",
     "text": [
      "C:\\Users\\alexa\\AppData\\Local\\Temp\\ipykernel_18224\\2832609429.py:11: DeprecationWarning: executable_path has been deprecated, please pass in a Service object\n",
      "  driver = webdriver.Chrome(executable_path='./resources/chromedriver.exe', options=options)\n"
     ]
    },
    {
     "name": "stdout",
     "output_type": "stream",
     "text": [
      "https://www.qconcursos.com/questoes-de-concursos/questoes?q=estatuto%20deficiente&page=1\n"
     ]
    },
    {
     "ename": "SessionNotCreatedException",
     "evalue": "Message: session not created\nfrom disconnected: received Inspector.detached event\n  (Session info: chrome=114.0.5735.199)\nStacktrace:\nBacktrace:\n\tGetHandleVerifier [0x00508893+48451]\n\t(No symbol) [0x0049B8A1]\n\t(No symbol) [0x003A5058]\n\t(No symbol) [0x0039924D]\n\t(No symbol) [0x00398DDD]\n\t(No symbol) [0x00398175]\n\t(No symbol) [0x0039810C]\n\t(No symbol) [0x00396D46]\n\t(No symbol) [0x003975CA]\n\t(No symbol) [0x003A8067]\n\t(No symbol) [0x003A9631]\n\t(No symbol) [0x003A96D0]\n\t(No symbol) [0x003F1A58]\n\t(No symbol) [0x003F047C]\n\t(No symbol) [0x003EA0B6]\n\t(No symbol) [0x003C7E08]\n\t(No symbol) [0x003C8F2D]\n\tGetHandleVerifier [0x00768E3A+2540266]\n\tGetHandleVerifier [0x007A8959+2801161]\n\tGetHandleVerifier [0x007A295C+2776588]\n\tGetHandleVerifier [0x00592280+612144]\n\t(No symbol) [0x004A4F6C]\n\t(No symbol) [0x004A11D8]\n\t(No symbol) [0x004A12BB]\n\t(No symbol) [0x00494857]\n\tBaseThreadInitThunk [0x75C37D59+25]\n\tRtlInitializeExceptionChain [0x772DB74B+107]\n\tRtlClearBits [0x772DB6CF+191]\n",
     "output_type": "error",
     "traceback": [
      "\u001b[1;31m---------------------------------------------------------------------------\u001b[0m",
      "\u001b[1;31mSessionNotCreatedException\u001b[0m                Traceback (most recent call last)",
      "Cell \u001b[1;32mIn[15], line 10\u001b[0m\n\u001b[0;32m      7\u001b[0m step\u001b[39m=\u001b[39m\u001b[39m30\u001b[39m\n\u001b[0;32m      9\u001b[0m \u001b[39mfor\u001b[39;00m i \u001b[39min\u001b[39;00m \u001b[39mrange\u001b[39m(\u001b[39m1\u001b[39m, qtd_pages, step):\n\u001b[1;32m---> 10\u001b[0m     driver \u001b[39m=\u001b[39m open_browser()\n\u001b[0;32m     11\u001b[0m     questions\u001b[39m.\u001b[39mextend(read_30_pages(i, driver, tema, i\u001b[39m+\u001b[39m\u001b[39m30\u001b[39m))\n\u001b[0;32m     12\u001b[0m     driver\u001b[39m.\u001b[39mclose()\n",
      "Cell \u001b[1;32mIn[12], line 11\u001b[0m, in \u001b[0;36mopen_browser\u001b[1;34m()\u001b[0m\n\u001b[0;32m      9\u001b[0m options \u001b[39m=\u001b[39m webdriver\u001b[39m.\u001b[39mChromeOptions()\n\u001b[0;32m     10\u001b[0m options\u001b[39m.\u001b[39madd_argument(\u001b[39mr\u001b[39m\u001b[39m\"\u001b[39m\u001b[39m--user-data-dir=C:\u001b[39m\u001b[39m\\\u001b[39m\u001b[39mUsers\u001b[39m\u001b[39m\\\u001b[39m\u001b[39malexa\u001b[39m\u001b[39m\\\u001b[39m\u001b[39mAppData\u001b[39m\u001b[39m\\\u001b[39m\u001b[39mLocal\u001b[39m\u001b[39m\\\u001b[39m\u001b[39mGoogle\u001b[39m\u001b[39m\\\u001b[39m\u001b[39mChrome\u001b[39m\u001b[39m\\\u001b[39m\u001b[39mUser Data\u001b[39m\u001b[39m\\\\\u001b[39;00m\u001b[39m\"\u001b[39m)\n\u001b[1;32m---> 11\u001b[0m driver \u001b[39m=\u001b[39m webdriver\u001b[39m.\u001b[39;49mChrome(executable_path\u001b[39m=\u001b[39;49m\u001b[39m'\u001b[39;49m\u001b[39m./resources/chromedriver.exe\u001b[39;49m\u001b[39m'\u001b[39;49m, options\u001b[39m=\u001b[39;49moptions)\n\u001b[0;32m     12\u001b[0m \u001b[39mreturn\u001b[39;00m driver\n",
      "File \u001b[1;32mc:\\Users\\alexa\\AppData\\Local\\Programs\\Python\\Python311\\Lib\\site-packages\\selenium\\webdriver\\chrome\\webdriver.py:70\u001b[0m, in \u001b[0;36mWebDriver.__init__\u001b[1;34m(self, executable_path, port, options, service_args, desired_capabilities, service_log_path, chrome_options, service, keep_alive)\u001b[0m\n\u001b[0;32m     67\u001b[0m \u001b[39mif\u001b[39;00m \u001b[39mnot\u001b[39;00m service:\n\u001b[0;32m     68\u001b[0m     service \u001b[39m=\u001b[39m Service(executable_path, port, service_args, service_log_path)\n\u001b[1;32m---> 70\u001b[0m \u001b[39msuper\u001b[39;49m(WebDriver, \u001b[39mself\u001b[39;49m)\u001b[39m.\u001b[39;49m\u001b[39m__init__\u001b[39;49m(DesiredCapabilities\u001b[39m.\u001b[39;49mCHROME[\u001b[39m'\u001b[39;49m\u001b[39mbrowserName\u001b[39;49m\u001b[39m'\u001b[39;49m], \u001b[39m\"\u001b[39;49m\u001b[39mgoog\u001b[39;49m\u001b[39m\"\u001b[39;49m,\n\u001b[0;32m     71\u001b[0m                                 port, options,\n\u001b[0;32m     72\u001b[0m                                 service_args, desired_capabilities,\n\u001b[0;32m     73\u001b[0m                                 service_log_path, service, keep_alive)\n",
      "File \u001b[1;32mc:\\Users\\alexa\\AppData\\Local\\Programs\\Python\\Python311\\Lib\\site-packages\\selenium\\webdriver\\chromium\\webdriver.py:92\u001b[0m, in \u001b[0;36mChromiumDriver.__init__\u001b[1;34m(self, browser_name, vendor_prefix, port, options, service_args, desired_capabilities, service_log_path, service, keep_alive)\u001b[0m\n\u001b[0;32m     89\u001b[0m \u001b[39mself\u001b[39m\u001b[39m.\u001b[39mservice\u001b[39m.\u001b[39mstart()\n\u001b[0;32m     91\u001b[0m \u001b[39mtry\u001b[39;00m:\n\u001b[1;32m---> 92\u001b[0m     RemoteWebDriver\u001b[39m.\u001b[39;49m\u001b[39m__init__\u001b[39;49m(\n\u001b[0;32m     93\u001b[0m         \u001b[39mself\u001b[39;49m,\n\u001b[0;32m     94\u001b[0m         command_executor\u001b[39m=\u001b[39;49mChromiumRemoteConnection(\n\u001b[0;32m     95\u001b[0m             remote_server_addr\u001b[39m=\u001b[39;49m\u001b[39mself\u001b[39;49m\u001b[39m.\u001b[39;49mservice\u001b[39m.\u001b[39;49mservice_url,\n\u001b[0;32m     96\u001b[0m             browser_name\u001b[39m=\u001b[39;49mbrowser_name, vendor_prefix\u001b[39m=\u001b[39;49mvendor_prefix,\n\u001b[0;32m     97\u001b[0m             keep_alive\u001b[39m=\u001b[39;49mkeep_alive, ignore_proxy\u001b[39m=\u001b[39;49m_ignore_proxy),\n\u001b[0;32m     98\u001b[0m         options\u001b[39m=\u001b[39;49moptions)\n\u001b[0;32m     99\u001b[0m \u001b[39mexcept\u001b[39;00m \u001b[39mException\u001b[39;00m:\n\u001b[0;32m    100\u001b[0m     \u001b[39mself\u001b[39m\u001b[39m.\u001b[39mquit()\n",
      "File \u001b[1;32mc:\\Users\\alexa\\AppData\\Local\\Programs\\Python\\Python311\\Lib\\site-packages\\selenium\\webdriver\\remote\\webdriver.py:275\u001b[0m, in \u001b[0;36mWebDriver.__init__\u001b[1;34m(self, command_executor, desired_capabilities, browser_profile, proxy, keep_alive, file_detector, options)\u001b[0m\n\u001b[0;32m    273\u001b[0m \u001b[39mself\u001b[39m\u001b[39m.\u001b[39m_authenticator_id \u001b[39m=\u001b[39m \u001b[39mNone\u001b[39;00m\n\u001b[0;32m    274\u001b[0m \u001b[39mself\u001b[39m\u001b[39m.\u001b[39mstart_client()\n\u001b[1;32m--> 275\u001b[0m \u001b[39mself\u001b[39;49m\u001b[39m.\u001b[39;49mstart_session(capabilities, browser_profile)\n",
      "File \u001b[1;32mc:\\Users\\alexa\\AppData\\Local\\Programs\\Python\\Python311\\Lib\\site-packages\\selenium\\webdriver\\remote\\webdriver.py:365\u001b[0m, in \u001b[0;36mWebDriver.start_session\u001b[1;34m(self, capabilities, browser_profile)\u001b[0m\n\u001b[0;32m    363\u001b[0m w3c_caps \u001b[39m=\u001b[39m _make_w3c_caps(capabilities)\n\u001b[0;32m    364\u001b[0m parameters \u001b[39m=\u001b[39m {\u001b[39m\"\u001b[39m\u001b[39mcapabilities\u001b[39m\u001b[39m\"\u001b[39m: w3c_caps}\n\u001b[1;32m--> 365\u001b[0m response \u001b[39m=\u001b[39m \u001b[39mself\u001b[39;49m\u001b[39m.\u001b[39;49mexecute(Command\u001b[39m.\u001b[39;49mNEW_SESSION, parameters)\n\u001b[0;32m    366\u001b[0m \u001b[39mif\u001b[39;00m \u001b[39m'\u001b[39m\u001b[39msessionId\u001b[39m\u001b[39m'\u001b[39m \u001b[39mnot\u001b[39;00m \u001b[39min\u001b[39;00m response:\n\u001b[0;32m    367\u001b[0m     response \u001b[39m=\u001b[39m response[\u001b[39m'\u001b[39m\u001b[39mvalue\u001b[39m\u001b[39m'\u001b[39m]\n",
      "File \u001b[1;32mc:\\Users\\alexa\\AppData\\Local\\Programs\\Python\\Python311\\Lib\\site-packages\\selenium\\webdriver\\remote\\webdriver.py:430\u001b[0m, in \u001b[0;36mWebDriver.execute\u001b[1;34m(self, driver_command, params)\u001b[0m\n\u001b[0;32m    428\u001b[0m response \u001b[39m=\u001b[39m \u001b[39mself\u001b[39m\u001b[39m.\u001b[39mcommand_executor\u001b[39m.\u001b[39mexecute(driver_command, params)\n\u001b[0;32m    429\u001b[0m \u001b[39mif\u001b[39;00m response:\n\u001b[1;32m--> 430\u001b[0m     \u001b[39mself\u001b[39;49m\u001b[39m.\u001b[39;49merror_handler\u001b[39m.\u001b[39;49mcheck_response(response)\n\u001b[0;32m    431\u001b[0m     response[\u001b[39m'\u001b[39m\u001b[39mvalue\u001b[39m\u001b[39m'\u001b[39m] \u001b[39m=\u001b[39m \u001b[39mself\u001b[39m\u001b[39m.\u001b[39m_unwrap_value(\n\u001b[0;32m    432\u001b[0m         response\u001b[39m.\u001b[39mget(\u001b[39m'\u001b[39m\u001b[39mvalue\u001b[39m\u001b[39m'\u001b[39m, \u001b[39mNone\u001b[39;00m))\n\u001b[0;32m    433\u001b[0m     \u001b[39mreturn\u001b[39;00m response\n",
      "File \u001b[1;32mc:\\Users\\alexa\\AppData\\Local\\Programs\\Python\\Python311\\Lib\\site-packages\\selenium\\webdriver\\remote\\errorhandler.py:247\u001b[0m, in \u001b[0;36mErrorHandler.check_response\u001b[1;34m(self, response)\u001b[0m\n\u001b[0;32m    245\u001b[0m         alert_text \u001b[39m=\u001b[39m value[\u001b[39m'\u001b[39m\u001b[39malert\u001b[39m\u001b[39m'\u001b[39m]\u001b[39m.\u001b[39mget(\u001b[39m'\u001b[39m\u001b[39mtext\u001b[39m\u001b[39m'\u001b[39m)\n\u001b[0;32m    246\u001b[0m     \u001b[39mraise\u001b[39;00m exception_class(message, screen, stacktrace, alert_text)  \u001b[39m# type: ignore[call-arg]  # mypy is not smart enough here\u001b[39;00m\n\u001b[1;32m--> 247\u001b[0m \u001b[39mraise\u001b[39;00m exception_class(message, screen, stacktrace)\n",
      "\u001b[1;31mSessionNotCreatedException\u001b[0m: Message: session not created\nfrom disconnected: received Inspector.detached event\n  (Session info: chrome=114.0.5735.199)\nStacktrace:\nBacktrace:\n\tGetHandleVerifier [0x00508893+48451]\n\t(No symbol) [0x0049B8A1]\n\t(No symbol) [0x003A5058]\n\t(No symbol) [0x0039924D]\n\t(No symbol) [0x00398DDD]\n\t(No symbol) [0x00398175]\n\t(No symbol) [0x0039810C]\n\t(No symbol) [0x00396D46]\n\t(No symbol) [0x003975CA]\n\t(No symbol) [0x003A8067]\n\t(No symbol) [0x003A9631]\n\t(No symbol) [0x003A96D0]\n\t(No symbol) [0x003F1A58]\n\t(No symbol) [0x003F047C]\n\t(No symbol) [0x003EA0B6]\n\t(No symbol) [0x003C7E08]\n\t(No symbol) [0x003C8F2D]\n\tGetHandleVerifier [0x00768E3A+2540266]\n\tGetHandleVerifier [0x007A8959+2801161]\n\tGetHandleVerifier [0x007A295C+2776588]\n\tGetHandleVerifier [0x00592280+612144]\n\t(No symbol) [0x004A4F6C]\n\t(No symbol) [0x004A11D8]\n\t(No symbol) [0x004A12BB]\n\t(No symbol) [0x00494857]\n\tBaseThreadInitThunk [0x75C37D59+25]\n\tRtlInitializeExceptionChain [0x772DB74B+107]\n\tRtlClearBits [0x772DB6CF+191]\n"
     ]
    }
   ],
   "source": [
    "for tema in temas:\n",
    "    print('Analisando', tema)\n",
    "    questions = []\n",
    "    driver = open_browser()\n",
    "    qtd_pages = get_number_pages(driver, tema)\n",
    "    driver.close()\n",
    "    step=30\n",
    "\n",
    "    for i in range(1, qtd_pages, step):\n",
    "        driver = open_browser()\n",
    "        questions.extend(read_30_pages(i, driver, tema, i+30))\n",
    "        driver.close()\n",
    "        if i + step > qtd_pages:\n",
    "            step = qtd_pages - i\n",
    "        else:\n",
    "            step = 30\n",
    "\n",
    "    # Only after extracting\n",
    "    df_questions = pd.DataFrame()\n",
    "    for i in range(len(questions)):\n",
    "        df_questions = pd.concat([df_questions, pd.DataFrame(questions[i], index=[i])], axis=0)\n",
    "    df_questions['ano'] = df_questions['info'].map(lambda x: x.split(' Banca')[0].split('Ano: ')[1])\n",
    "    df_questions['banca'] = df_questions['info'].map(lambda x: x.split('Banca: ')[1].split()[0])\n",
    "    df_questions['orgao'] = df_questions['info'].map(lambda x: x.split('Órgão: ')[1].split('Prova')[0])\n",
    "    df_questions['prova'] = df_questions['info'].map(lambda x: x.split(':')[-1])\n",
    "    now = datetime.now()\n",
    "    df_questions.to_csv(f'data/{now.year}{now.month}{now.day} - {now.hour}-{now.minute}.csv', sep=';')"
   ]
  },
  {
   "cell_type": "code",
   "execution_count": 18,
   "metadata": {},
   "outputs": [
    {
     "name": "stdout",
     "output_type": "stream",
     "text": [
      "Analisando estatuto deficiente\n"
     ]
    },
    {
     "name": "stderr",
     "output_type": "stream",
     "text": [
      "C:\\Users\\alexa\\AppData\\Local\\Temp\\ipykernel_18224\\2715089062.py:11: DeprecationWarning: executable_path has been deprecated, please pass in a Service object\n",
      "  driver = webdriver.Chrome(executable_path='./resources/chromedriver.exe', options=options)\n"
     ]
    },
    {
     "name": "stdout",
     "output_type": "stream",
     "text": [
      "https://www.qconcursos.com/questoes-de-concursos/questoes?discipline_ids%5B%5D=579&page=1\n"
     ]
    },
    {
     "ename": "NameError",
     "evalue": "name 'link' is not defined",
     "output_type": "error",
     "traceback": [
      "\u001b[1;31m---------------------------------------------------------------------------\u001b[0m",
      "\u001b[1;31mNameError\u001b[0m                                 Traceback (most recent call last)",
      "Cell \u001b[1;32mIn[18], line 11\u001b[0m\n\u001b[0;32m      9\u001b[0m \u001b[39mfor\u001b[39;00m i \u001b[39min\u001b[39;00m \u001b[39mrange\u001b[39m(\u001b[39m1\u001b[39m, qtd_pages, step):\n\u001b[0;32m     10\u001b[0m     driver \u001b[39m=\u001b[39m open_browser()\n\u001b[1;32m---> 11\u001b[0m     questions\u001b[39m.\u001b[39mextend(read_30_pages(i, driver, \u001b[39mNone\u001b[39;49;00m, i\u001b[39m+\u001b[39;49m\u001b[39m30\u001b[39;49m, \u001b[39m579\u001b[39;49m))\n\u001b[0;32m     12\u001b[0m     driver\u001b[39m.\u001b[39mclose()\n\u001b[0;32m     13\u001b[0m     \u001b[39mif\u001b[39;00m i \u001b[39m+\u001b[39m step \u001b[39m>\u001b[39m qtd_pages:\n",
      "Cell \u001b[1;32mIn[17], line 78\u001b[0m, in \u001b[0;36mread_30_pages\u001b[1;34m(initial, driver, query, end, discipline_id)\u001b[0m\n\u001b[0;32m     76\u001b[0m url \u001b[39m=\u001b[39m \u001b[39mf\u001b[39m\u001b[39m'\u001b[39m\u001b[39mhttps://www.qconcursos.com/questoes-de-concursos/questoes?\u001b[39m\u001b[39m{\u001b[39;00m\u001b[39m\"\u001b[39m\u001b[39m&\u001b[39m\u001b[39m\"\u001b[39m\u001b[39m.\u001b[39mjoin(internal_parameters)\u001b[39m}\u001b[39;00m\u001b[39m&page=\u001b[39m\u001b[39m{\u001b[39;00mpage\u001b[39m}\u001b[39;00m\u001b[39m'\u001b[39m\n\u001b[0;32m     77\u001b[0m \u001b[39m# SINASE\u001b[39;00m\n\u001b[1;32m---> 78\u001b[0m driver\u001b[39m.\u001b[39mget(link)\n\u001b[0;32m     79\u001b[0m \u001b[39mtry\u001b[39;00m:\n\u001b[0;32m     80\u001b[0m     WebDriverWait(driver, \u001b[39m3\u001b[39m)\u001b[39m.\u001b[39muntil(EC\u001b[39m.\u001b[39mpresence_of_element_located((By\u001b[39m.\u001b[39mCLASS_NAME, \u001b[39m'\u001b[39m\u001b[39mjs-question-item\u001b[39m\u001b[39m'\u001b[39m)))\n",
      "\u001b[1;31mNameError\u001b[0m: name 'link' is not defined"
     ]
    }
   ],
   "source": [
    "tema = temas[0]\n",
    "print('Analisando', tema)\n",
    "questions = []\n",
    "driver = open_browser()\n",
    "qtd_pages = get_number_pages(driver, None, 579)\n",
    "driver.close()\n",
    "step=30\n",
    "\n",
    "for i in range(1, qtd_pages, step):\n",
    "    driver = open_browser()\n",
    "    questions.extend(read_30_pages(i, driver, None, i+30, 579))\n",
    "    driver.close()\n",
    "    if i + step > qtd_pages:\n",
    "        step = qtd_pages - i\n",
    "    else:\n",
    "        step = 30\n",
    "\n",
    "# Only after extracting\n",
    "df_questions = pd.DataFrame()\n",
    "for i in range(len(questions)):\n",
    "    df_questions = pd.concat([df_questions, pd.DataFrame(questions[i], index=[i])], axis=0)\n",
    "df_questions['ano'] = df_questions['info'].map(lambda x: x.split(' Banca')[0].split('Ano: ')[1])\n",
    "df_questions['banca'] = df_questions['info'].map(lambda x: x.split('Banca: ')[1].split()[0])\n",
    "df_questions['orgao'] = df_questions['info'].map(lambda x: x.split('Órgão: ')[1].split('Prova')[0])\n",
    "df_questions['prova'] = df_questions['info'].map(lambda x: x.split(':')[-1])\n",
    "now = datetime.now()\n",
    "df_questions.to_csv(f'data/{now.year}{now.month}{now.day} - {now.hour}-{now.minute}.csv', sep=';')"
   ]
  },
  {
   "attachments": {},
   "cell_type": "markdown",
   "metadata": {},
   "source": [
    "## Formating and saving the data"
   ]
  },
  {
   "cell_type": "code",
   "execution_count": 21,
   "metadata": {},
   "outputs": [],
   "source": []
  }
 ],
 "metadata": {
  "kernelspec": {
   "display_name": "Python 3",
   "language": "python",
   "name": "python3"
  },
  "language_info": {
   "codemirror_mode": {
    "name": "ipython",
    "version": 3
   },
   "file_extension": ".py",
   "mimetype": "text/x-python",
   "name": "python",
   "nbconvert_exporter": "python",
   "pygments_lexer": "ipython3",
   "version": "3.11.3"
  },
  "orig_nbformat": 4
 },
 "nbformat": 4,
 "nbformat_minor": 2
}
